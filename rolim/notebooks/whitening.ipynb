{
 "cells": [
  {
   "cell_type": "markdown",
   "metadata": {},
   "source": [
    "# Whitening transform\n",
    "This notebook explores the effects of the *whitening transform*\n",
    "(and its subroutine, the *Cholesky decomposition*)\n",
    "on a few isolated example inputs."
   ]
  },
  {
   "cell_type": "markdown",
   "metadata": {},
   "source": [
    "### Cholesky decomposition\n",
    "Decompose a matrix $M$ into two matrices $W$ of the same shape,\n",
    "such that\n",
    "$M = WW^{\\top}$.\n",
    "\n",
    "Note that $M$ must be\n",
    "1. Symmetric\n",
    "2. Positive definite\n",
    "(In the example below, a covariance matrix is used.\n",
    "These are always symmetric and positive definite.)\n",
    "\n",
    "Also, $W$ is always lower triangular (i.e. entries\n",
    "above the main diagonal are always 0).\n",
    "\n",
    "It is supposedly faster than the Eigenvalue-decomposition.\n",
    "PyTorch implements both only on the CPU,\n",
    "so I doubt either is particularly fast to use in Neural Networks."
   ]
  },
  {
   "cell_type": "code",
   "execution_count": 81,
   "metadata": {},
   "outputs": [],
   "source": [
    "import torch\n",
    "import random\n",
    "import numpy as np\n",
    "import matplotlib.pyplot as plt\n",
    "from rolim.tools.stats import sample_covar\n",
    "from rolim.tools.testing import assert_tensor_eq\n",
    "from rolim.whitening.whitening import whiten\n",
    "\n",
    "RNG = np.random.default_rng()\n",
    "\n",
    "\n"
   ]
  },
  {
   "cell_type": "markdown",
   "metadata": {},
   "source": [
    "We begin with constructing a random\n",
    "matrix that is symmetric and positive definite.\n",
    "Covariance matrices always satisfy those requirements,\n",
    "so compute the covariance matrix of a random collection of vectors:"
   ]
  },
  {
   "cell_type": "code",
   "execution_count": 82,
   "metadata": {},
   "outputs": [
    {
     "data": {
      "text/plain": [
       "tensor([[51.5111,  3.2222, -0.2889],\n",
       "        [ 3.2222, 81.6111, 41.7778],\n",
       "        [-0.2889, 41.7778, 84.1778]])"
      ]
     },
     "execution_count": 82,
     "metadata": {},
     "output_type": "execute_result"
    }
   ],
   "source": [
    "shape = (3, 10)\n",
    "elements = [x for x in range(shape[0]*shape[1])]\n",
    "elements = RNG.permutation(elements)\n",
    "sample = torch.tensor(elements, dtype=torch.float).reshape(shape)\n",
    "m = sample_covar(sample)\n",
    "m"
   ]
  },
  {
   "cell_type": "code",
   "execution_count": 83,
   "metadata": {},
   "outputs": [
    {
     "name": "stdout",
     "output_type": "stream",
     "text": [
      "tensor([[ 7.1771,  0.0000,  0.0000],\n",
      "        [ 0.4490,  9.0227,  0.0000],\n",
      "        [-0.0403,  4.6323,  7.9195]])\n",
      "tensor([[51.5111,  3.2222, -0.2889],\n",
      "        [ 3.2222, 81.6111, 41.7778],\n",
      "        [-0.2889, 41.7778, 84.1778]])\n"
     ]
    },
    {
     "data": {
      "text/plain": [
       "True"
      ]
     },
     "execution_count": 83,
     "metadata": {},
     "output_type": "execute_result"
    }
   ],
   "source": [
    "w = torch.linalg.cholesky(m)\n",
    "print(w)\n",
    "print(w @ w.T)\n",
    "torch.allclose(m, w@w.T)"
   ]
  },
  {
   "cell_type": "markdown",
   "metadata": {},
   "source": [
    "Note that $W$ is always lower-triangular.\n",
    "So we can use torch's dedicated `torch.triangular_solve()`:"
   ]
  },
  {
   "cell_type": "code",
   "execution_count": 84,
   "metadata": {},
   "outputs": [
    {
     "name": "stdout",
     "output_type": "stream",
     "text": [
      "torch.return_types.triangular_solve(\n",
      "solution=tensor([[0.1393, 0.0000, 0.0000],\n",
      "        [0.0000, 0.1108, 0.0000],\n",
      "        [0.0000, 0.0000, 0.1263]]),\n",
      "cloned_coefficient=tensor([[ 7.1771,  0.0000,  0.0000],\n",
      "        [ 0.4490,  9.0227,  0.0000],\n",
      "        [-0.0403,  4.6323,  7.9195]]))\n"
     ]
    },
    {
     "data": {
      "text/plain": [
       "tensor([[ 1.0000,  0.0000,  0.0000],\n",
       "        [ 0.0498,  1.0000,  0.0000],\n",
       "        [-0.0051,  0.5849,  1.0000]])"
      ]
     },
     "execution_count": 84,
     "metadata": {},
     "output_type": "execute_result"
    }
   ],
   "source": [
    "output = torch.triangular_solve(torch.eye(w.shape[0]), w)\n",
    "print(output)\n",
    "output[0] @ w"
   ]
  },
  {
   "cell_type": "markdown",
   "metadata": {},
   "source": [
    "The above does not seem very accurate.\n",
    "`torch.linalg.inv()` does better:"
   ]
  },
  {
   "cell_type": "code",
   "execution_count": 85,
   "metadata": {},
   "outputs": [
    {
     "data": {
      "text/plain": [
       "tensor([[ 1.0000e+00,  0.0000e+00,  0.0000e+00],\n",
       "        [ 0.0000e+00,  1.0000e+00,  0.0000e+00],\n",
       "        [-1.3302e-09, -6.6441e-09,  1.0000e+00]])"
      ]
     },
     "execution_count": 85,
     "metadata": {},
     "output_type": "execute_result"
    }
   ],
   "source": [
    "torch.linalg.inv(w) @ w"
   ]
  },
  {
   "cell_type": "markdown",
   "metadata": {},
   "source": [
    "## Whitening transform on random 2D vectors\n",
    "Experiment: sample random 2D vectors from multiple\n",
    "(arbitrary) distributions, apply the whitening transform, and plot the results."
   ]
  },
  {
   "cell_type": "code",
   "execution_count": 94,
   "metadata": {},
   "outputs": [],
   "source": [
    "n1 = RNG.integers(low=10, high=100, dtype=int)\n",
    "n2 = RNG.integers(low=10, high=100, dtype=int)\n",
    "n3 = RNG.integers(low=10, high=100, dtype=int)\n",
    "\n",
    "distr1 = torch.distributions.multivariate_normal.MultivariateNormal(\n",
    "    loc = torch.tensor([10, 10], dtype=torch.float), \n",
    "    covariance_matrix=torch.eye(2, dtype=torch.float)\n",
    ")\n",
    "\n",
    "distr2 = torch.distributions.multivariate_normal.MultivariateNormal(\n",
    "    loc = torch.tensor([-1, 0], dtype=torch.float), \n",
    "    covariance_matrix= torch.tensor([\n",
    "        [3, 4], [4, 30]\n",
    "    ], dtype=torch.float)\n",
    ")\n",
    "\n",
    "distr3 = torch.distributions.Poisson(rate=3)"
   ]
  },
  {
   "cell_type": "code",
   "execution_count": 95,
   "metadata": {},
   "outputs": [
    {
     "name": "stdout",
     "output_type": "stream",
     "text": [
      "Generated random sample with shape: torch.Size([2, 178])\n"
     ]
    }
   ],
   "source": [
    "sample1 = distr1.sample((n1,)).reshape((2, -1))\n",
    "sample2 = distr2.sample((n2,)).reshape((2, -1))\n",
    "sample3 = distr3.sample((2, n3))\n",
    "\n",
    "sample = torch.concat((sample1, sample2, sample3), dim=1)\n",
    "print(f\"Generated random sample with shape: {sample.shape}\")\n",
    "\n",
    "whitened_sample = whiten(sample)"
   ]
  },
  {
   "cell_type": "code",
   "execution_count": 96,
   "metadata": {},
   "outputs": [
    {
     "data": {
      "image/png": "[encoded data removed]",
      "text/plain": [
       "<Figure size 640x480 with 1 Axes>"
      ]
     },
     "metadata": {},
     "output_type": "display_data"
    }
   ],
   "source": [
    "fig, ax = plt.subplots(nrows=1, ncols=1)\n",
    "ax.plot(sample[0, :], sample[1, :], \".\", color=\"red\", label=\"Raw sample\")\n",
    "ax.plot(whitened_sample[0, :], whitened_sample[1, :], \".\", color=\"green\", label=\"Whitened sample\")\n",
    "ax.legend()\n",
    "ax.set(**{\"title\": \"Whitening transform on random 2D vectors\"});"
   ]
  }
 ],
 "metadata": {
  "kernelspec": {
   "display_name": "Python 3.10.6 64-bit ('rolim')",
   "language": "python",
   "name": "python3"
  },
  "language_info": {
   "codemirror_mode": {
    "name": "ipython",
    "version": 3
   },
   "file_extension": ".py",
   "mimetype": "text/x-python",
   "name": "python",
   "nbconvert_exporter": "python",
   "pygments_lexer": "ipython3",
   "version": "3.10.6"
  },
  "orig_nbformat": 4,
  "vscode": {
   "interpreter": {
    "hash": "2b1e43d871606d6392cfada235000b7723eafdefb59c66ccaa80fdf35e3b6dab"
   }
  }
 },
 "nbformat": 4,
 "nbformat_minor": 2
}
