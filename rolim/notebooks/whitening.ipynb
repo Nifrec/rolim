{
 "cells": [
  {
   "cell_type": "markdown",
   "metadata": {},
   "source": [
    "# Whitening transform\n",
    "This notebook explores the effects of the *whitening transform*\n",
    "(and its subroutine, the *Cholesky decomposition*)\n",
    "on a few isolated example inputs."
   ]
  },
  {
   "cell_type": "markdown",
   "metadata": {},
   "source": [
    "### Cholesky decomposition\n",
    "Decompose a matrix $M$ into two matrices $W$ of the same shape,\n",
    "such that\n",
    "$M = WW^{\\top}$.\n",
    "\n",
    "Note that $M$ must be\n",
    "1. Symmetric\n",
    "2. Positive definite\n",
    "(In the example below, a covariance matrix is used.\n",
    "These are always symmetric and positive definite.)\n",
    "\n",
    "Also, $W$ is always lower triangular (i.e. entries\n",
    "above the main diagonal are always 0).\n",
    "\n",
    "It is supposedly faster than the Eigenvalue-decomposition.\n",
    "PyTorch implements both only on the CPU,\n",
    "so I doubt either is particularly fast to use in Neural Networks."
   ]
  },
  {
   "cell_type": "code",
   "execution_count": 2,
   "metadata": {},
   "outputs": [
    {
     "data": {
      "text/plain": [
       "tensor([[ 39.8333,  16.9444,  20.2778],\n",
       "        [ 16.9444,  94.9889, -43.5444],\n",
       "        [ 20.2778, -43.5444, 114.5444]])"
      ]
     },
     "execution_count": 2,
     "metadata": {},
     "output_type": "execute_result"
    }
   ],
   "source": [
    "import torch\n",
    "import random\n",
    "from rolim.tools.stats import sample_covar\n",
    "from rolim.tools.testing import assert_tensor_eq\n",
    "\n",
    "shape = (3, 10)\n",
    "elements = [x for x in range(shape[0]*shape[1])]\n",
    "random.shuffle(elements)\n",
    "sample = torch.tensor(elements, dtype=torch.float).reshape(shape)\n",
    "m = sample_covar(sample)\n",
    "m\n"
   ]
  },
  {
   "cell_type": "code",
   "execution_count": 3,
   "metadata": {},
   "outputs": [
    {
     "name": "stdout",
     "output_type": "stream",
     "text": [
      "tensor([[ 6.3114,  0.0000,  0.0000],\n",
      "        [ 2.6848,  9.3692,  0.0000],\n",
      "        [ 3.2129, -5.5683,  8.5566]])\n",
      "tensor([[ 39.8333,  16.9444,  20.2778],\n",
      "        [ 16.9444,  94.9889, -43.5444],\n",
      "        [ 20.2778, -43.5444, 114.5445]])\n"
     ]
    },
    {
     "data": {
      "text/plain": [
       "True"
      ]
     },
     "execution_count": 3,
     "metadata": {},
     "output_type": "execute_result"
    }
   ],
   "source": [
    "w = torch.linalg.cholesky(m)\n",
    "print(w)\n",
    "print(w @ w.T)\n",
    "torch.allclose(m, w@w.T)"
   ]
  },
  {
   "cell_type": "markdown",
   "metadata": {},
   "source": [
    "Note that $W$ is always lower-triangular.\n",
    "So we can use torch's dedicated `torch.triangular_solve()`:"
   ]
  },
  {
   "cell_type": "code",
   "execution_count": 10,
   "metadata": {},
   "outputs": [
    {
     "name": "stdout",
     "output_type": "stream",
     "text": [
      "torch.return_types.triangular_solve(\n",
      "solution=tensor([[0.1584, 0.0000, 0.0000],\n",
      "        [0.0000, 0.1067, 0.0000],\n",
      "        [0.0000, 0.0000, 0.1169]]),\n",
      "cloned_coefficient=tensor([[ 6.3114,  0.0000,  0.0000],\n",
      "        [ 2.6848,  9.3692,  0.0000],\n",
      "        [ 3.2129, -5.5683,  8.5566]]))\n"
     ]
    },
    {
     "data": {
      "text/plain": [
       "tensor([[ 1.0000,  0.0000,  0.0000],\n",
       "        [ 0.2866,  1.0000,  0.0000],\n",
       "        [ 0.3755, -0.6508,  1.0000]])"
      ]
     },
     "execution_count": 10,
     "metadata": {},
     "output_type": "execute_result"
    }
   ],
   "source": [
    "output = torch.triangular_solve(torch.eye(w.shape[0]), w)\n",
    "print(output)\n",
    "output[0] @ w"
   ]
  },
  {
   "cell_type": "markdown",
   "metadata": {},
   "source": [
    "The above does not seem very accurate.\n",
    "`torch.linalg.inv()` does better:"
   ]
  },
  {
   "cell_type": "code",
   "execution_count": 11,
   "metadata": {},
   "outputs": [
    {
     "data": {
      "text/plain": [
       "tensor([[ 1.0000e+00,  0.0000e+00,  0.0000e+00],\n",
       "        [ 0.0000e+00,  1.0000e+00,  0.0000e+00],\n",
       "        [ 2.5107e-08, -2.8204e-08,  1.0000e+00]])"
      ]
     },
     "execution_count": 11,
     "metadata": {},
     "output_type": "execute_result"
    }
   ],
   "source": [
    "torch.linalg.inv(w) @ w"
   ]
  }
 ],
 "metadata": {
  "kernelspec": {
   "display_name": "Python 3.10.6 64-bit ('rolim')",
   "language": "python",
   "name": "python3"
  },
  "language_info": {
   "codemirror_mode": {
    "name": "ipython",
    "version": 3
   },
   "file_extension": ".py",
   "mimetype": "text/x-python",
   "name": "python",
   "nbconvert_exporter": "python",
   "pygments_lexer": "ipython3",
   "version": "3.10.6"
  },
  "orig_nbformat": 4,
  "vscode": {
   "interpreter": {
    "hash": "2b1e43d871606d6392cfada235000b7723eafdefb59c66ccaa80fdf35e3b6dab"
   }
  }
 },
 "nbformat": 4,
 "nbformat_minor": 2
}
