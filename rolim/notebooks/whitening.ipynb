{
 "cells": [
  {
   "cell_type": "markdown",
   "metadata": {},
   "source": [
    "# Whitening transform\n",
    "This notebook explores the effects of the *whitening transform*\n",
    "(and its subroutine, the *Cholesky decomposition*)\n",
    "on a few isolated example inputs."
   ]
  },
  {
   "cell_type": "markdown",
   "metadata": {},
   "source": [
    "### Cholesky decomposition\n",
    "Decompose a matrix $M$ into two matrices $W$ of the same shape,\n",
    "such that\n",
    "$M = WW^{\\top}$.\n",
    "\n",
    "Note that $M$ must be\n",
    "1. Symmetric\n",
    "2. Positive definite\n",
    "(In the example below, a covariance matrix is used.\n",
    "These are always symmetric and positive definite.)\n",
    "\n",
    "Also, $W$ is always lower triangular (i.e. entries\n",
    "above the main diagonal are always 0).\n",
    "\n",
    "It is supposedly faster than the Eigenvalue-decomposition.\n",
    "PyTorch implements both only on the CPU,\n",
    "so I doubt either is particularly fast to use in Neural Networks."
   ]
  },
  {
   "cell_type": "code",
   "execution_count": 19,
   "metadata": {},
   "outputs": [],
   "source": [
    "import torch\n",
    "import random\n",
    "import numpy as np\n",
    "import matplotlib.pyplot as plt\n",
    "import timeit\n",
    "import scipy.stats as stats\n",
    "import pandas as pd\n",
    "\n",
    "from typing import Any\n",
    "\n",
    "from rolim.tools.stats import (sample_covar,\n",
    "    randomized_multinormal_distr)\n",
    "from rolim.tools.testing import assert_tensor_eq\n",
    "from rolim.whitening.whitening import (\n",
    "    whiten, whiten_naive, compute_whiten_error)\n",
    "\n",
    "RNG = np.random.default_rng()"
   ]
  },
  {
   "cell_type": "markdown",
   "metadata": {},
   "source": [
    "We begin with constructing a random\n",
    "matrix that is symmetric and positive definite.\n",
    "Covariance matrices always satisfy those requirements,\n",
    "so compute the covariance matrix of a random collection of vectors:"
   ]
  },
  {
   "cell_type": "code",
   "execution_count": 20,
   "metadata": {},
   "outputs": [
    {
     "data": {
      "text/plain": [
       "tensor([[ 80.6778, -16.7556,  17.2444],\n",
       "        [-16.7556,  99.6000,  32.0444],\n",
       "        [ 17.2444,  32.0444,  39.8222]])"
      ]
     },
     "execution_count": 20,
     "metadata": {},
     "output_type": "execute_result"
    }
   ],
   "source": [
    "shape = (3, 10)\n",
    "elements = [x for x in range(shape[0]*shape[1])]\n",
    "elements = RNG.permutation(elements)\n",
    "sample = torch.tensor(elements, dtype=torch.float).reshape(shape)\n",
    "m = sample_covar(sample)\n",
    "m"
   ]
  },
  {
   "cell_type": "code",
   "execution_count": 21,
   "metadata": {},
   "outputs": [
    {
     "name": "stdout",
     "output_type": "stream",
     "text": [
      "tensor([[ 8.9821,  0.0000,  0.0000],\n",
      "        [-1.8654,  9.8041,  0.0000],\n",
      "        [ 1.9199,  3.6338,  4.7887]])\n",
      "tensor([[ 80.6778, -16.7556,  17.2444],\n",
      "        [-16.7556,  99.6000,  32.0444],\n",
      "        [ 17.2444,  32.0444,  39.8222]])\n"
     ]
    },
    {
     "data": {
      "text/plain": [
       "True"
      ]
     },
     "execution_count": 21,
     "metadata": {},
     "output_type": "execute_result"
    }
   ],
   "source": [
    "w = torch.linalg.cholesky(m)\n",
    "print(w)\n",
    "print(w @ w.T)\n",
    "torch.allclose(m, w@w.T)"
   ]
  },
  {
   "cell_type": "markdown",
   "metadata": {},
   "source": [
    "Note that $W$ is always lower-triangular.\n",
    "So we can use torch's dedicated `torch.triangular_solve()`:"
   ]
  },
  {
   "cell_type": "code",
   "execution_count": 22,
   "metadata": {},
   "outputs": [
    {
     "name": "stdout",
     "output_type": "stream",
     "text": [
      "torch.return_types.triangular_solve(\n",
      "solution=tensor([[0.1113, 0.0000, 0.0000],\n",
      "        [0.0000, 0.1020, 0.0000],\n",
      "        [0.0000, 0.0000, 0.2088]]),\n",
      "cloned_coefficient=tensor([[ 8.9821,  0.0000,  0.0000],\n",
      "        [-1.8654,  9.8041,  0.0000],\n",
      "        [ 1.9199,  3.6338,  4.7887]]))\n"
     ]
    },
    {
     "data": {
      "text/plain": [
       "tensor([[ 1.0000,  0.0000,  0.0000],\n",
       "        [-0.1903,  1.0000,  0.0000],\n",
       "        [ 0.4009,  0.7588,  1.0000]])"
      ]
     },
     "execution_count": 22,
     "metadata": {},
     "output_type": "execute_result"
    }
   ],
   "source": [
    "output = torch.triangular_solve(torch.eye(w.shape[0]), w)\n",
    "print(output)\n",
    "output[0] @ w"
   ]
  },
  {
   "cell_type": "markdown",
   "metadata": {},
   "source": [
    "The above does not seem very accurate.\n",
    "`torch.linalg.inv()` does better:"
   ]
  },
  {
   "cell_type": "code",
   "execution_count": 23,
   "metadata": {},
   "outputs": [
    {
     "data": {
      "text/plain": [
       "tensor([[ 1.0000e+00,  0.0000e+00,  0.0000e+00],\n",
       "        [ 1.4901e-08,  1.0000e+00,  0.0000e+00],\n",
       "        [-5.4106e-08, -1.8950e-08,  1.0000e+00]])"
      ]
     },
     "execution_count": 23,
     "metadata": {},
     "output_type": "execute_result"
    }
   ],
   "source": [
    "torch.linalg.inv(w) @ w"
   ]
  },
  {
   "cell_type": "markdown",
   "metadata": {},
   "source": [
    "## Whitening transform on random 2D vectors\n",
    "Experiment: sample random 2D vectors from multiple\n",
    "(arbitrary) distributions, apply the whitening transform, and plot the results."
   ]
  },
  {
   "cell_type": "code",
   "execution_count": 24,
   "metadata": {},
   "outputs": [],
   "source": [
    "n1 = RNG.integers(low=10, high=100, dtype=int)\n",
    "n2 = RNG.integers(low=10, high=100, dtype=int)\n",
    "n3 = RNG.integers(low=10, high=100, dtype=int)\n",
    "\n",
    "distr1 = torch.distributions.multivariate_normal.MultivariateNormal(\n",
    "    loc = torch.tensor([10, 10], dtype=torch.float), \n",
    "    covariance_matrix=torch.eye(2, dtype=torch.float)\n",
    ")\n",
    "\n",
    "distr2 = torch.distributions.multivariate_normal.MultivariateNormal(\n",
    "    loc = torch.tensor([-1, 0], dtype=torch.float), \n",
    "    covariance_matrix= torch.tensor([\n",
    "        [3, 4], [4, 30]\n",
    "    ], dtype=torch.float)\n",
    ")\n",
    "\n",
    "distr3 = torch.distributions.Poisson(rate=3)"
   ]
  },
  {
   "cell_type": "code",
   "execution_count": 34,
   "metadata": {},
   "outputs": [
    {
     "name": "stdout",
     "output_type": "stream",
     "text": [
      "Generated random sample with shape: torch.Size([2, 133])\n"
     ]
    }
   ],
   "source": [
    "sample1 = distr1.sample((n1,)).reshape((2, -1))\n",
    "sample2 = distr2.sample((n2,)).reshape((2, -1))\n",
    "sample3 = distr3.sample((2, n3))\n",
    "\n",
    "sample = torch.concat((sample1, sample2, sample3), dim=1)\n",
    "print(f\"Generated random sample with shape: {sample.shape}\")\n",
    "\n",
    "whitened_sample = whiten(sample)"
   ]
  },
  {
   "cell_type": "code",
   "execution_count": 35,
   "metadata": {},
   "outputs": [
    {
     "data": {
      "image/png": "[encoded data removed]",
      "text/plain": [
       "<Figure size 640x480 with 1 Axes>"
      ]
     },
     "metadata": {},
     "output_type": "display_data"
    }
   ],
   "source": [
    "fig, ax = plt.subplots(nrows=1, ncols=1)\n",
    "ax.plot(sample[0, :], sample[1, :], \".\", color=\"red\", label=\"Raw sample\")\n",
    "ax.plot(whitened_sample[0, :], whitened_sample[1, :], \".\", color=\"green\", label=\"Whitened sample\")\n",
    "ax.legend()\n",
    "ax.set(**{\"title\": \"Whitening transform on random 2D vectors\"});"
   ]
  },
  {
   "cell_type": "code",
   "execution_count": 36,
   "metadata": {},
   "outputs": [],
   "source": [
    "fig.savefig(\"effect_whitening.pdf\")"
   ]
  },
  {
   "cell_type": "markdown",
   "metadata": {},
   "source": [
    "## Is there a difference between whitening implementations?\n",
    "The naive method first computes the covariance $\\Sigma$,\n",
    "inverts it, and decomposes it using Cholesky.\n",
    "The alternative method used by various authors\n",
    "computes $\\Sigma$, regularizes it by blending\n",
    "it with a diagonal matrix (to make it *numerically*\n",
    "more likely to be positive definite, I suppose),\n",
    "decomposes it, and then inverts the triangular matrix.\n",
    "\n",
    "**Fun fact:** the LWM paper implements the regularization step,\n",
    "but sets the parameter to 0, basically skipping it. 🤷\n",
    "\n",
    "**Observation:** only the parameter $\\epsilon$ seems to matter?\n",
    "See plot below.\n",
    "\n",
    "TODO: compare numerically, and compare computation speed."
   ]
  },
  {
   "cell_type": "code",
   "execution_count": 28,
   "metadata": {},
   "outputs": [
    {
     "data": {
      "image/png": "[encoded data removed]",
      "text/plain": [
       "<Figure size 640x480 with 1 Axes>"
      ]
     },
     "metadata": {},
     "output_type": "display_data"
    }
   ],
   "source": [
    "sample_naive_whitened = whiten_naive(sample)\n",
    "sample_whitened_0_eps = whiten(sample, reg_eps=0)\n",
    "\n",
    "fig, ax = plt.subplots(nrows=1, ncols=1)\n",
    "ax.plot(whitened_sample[0, :], whitened_sample[1, :], \".\", color=\"green\", label=\"Alternative, default ε\")\n",
    "ax.plot(sample_naive_whitened[0, :], sample_naive_whitened[1, :], \".\", color=\"blue\", label=\"Naive implementation\")\n",
    "ax.plot(sample_whitened_0_eps[0, :], sample_whitened_0_eps[1, :], \".\", color=\"violet\", label=\"Naive implementation\")\n",
    "ax.legend()\n",
    "ax.set(**{\"title\": \"Different implementations Whitening transform\"});"
   ]
  },
  {
   "cell_type": "markdown",
   "metadata": {},
   "source": [
    "### Random random distribution\n",
    "Sample a random mean, a random covariance matrix,\n",
    "and make a multinormal distribution from out\n",
    "(sample the mean a standard multinormal distribution,\n",
    "and the covariance as the covariance of a random standard mulinormal matrix)."
   ]
  },
  {
   "cell_type": "code",
   "execution_count": 29,
   "metadata": {},
   "outputs": [
    {
     "data": {
      "image/png": "[encoded data removed]",
      "text/plain": [
       "<Figure size 640x480 with 1 Axes>"
      ]
     },
     "metadata": {},
     "output_type": "display_data"
    }
   ],
   "source": [
    "from numpy import dtype\n",
    "from torch import Tensor\n",
    "\n",
    "\n",
    "DIM = 2\n",
    "SAMPLE_SIZE = 100\n",
    "NUM_BATCHES = 4\n",
    "PARENT_COVAR_SCALE = 100\n",
    "\n",
    "def sample_random_random_batch(dim: int=DIM, sample_size:int=SAMPLE_SIZE) -> Tensor:\n",
    "        \"\"\"\n",
    "        Sample a random batch of vectors from a randomized random distribution.\n",
    "        See this as a 'black box' function that \n",
    "        generates magical unpredictable data.\n",
    "\n",
    "        Arguments:\n",
    "        * dim: length of output vectors.\n",
    "        * sample_size: number of output vectors.\n",
    "\n",
    "        Returns:\n",
    "        * `dim×sample_size` matrix of `sample_size` column vectors of\n",
    "                length `dim`.\n",
    "\n",
    "        \"\"\"\n",
    "        parent_mean = torch.from_numpy((RNG.random(size=dim)-0.5)*10).to(torch.float)\n",
    "        covar_scale=RNG.integers(low=1, high=100)\n",
    "        distr = randomized_multinormal_distr(dim, parent_mean=parent_mean,\n",
    "                covar_scale=covar_scale)\n",
    "        output = distr.sample((sample_size,)).reshape(dim, sample_size)\n",
    "        assert(output.shape == (dim, sample_size))\n",
    "        return output\n",
    "        \n",
    "\n",
    "\n",
    "batches = []\n",
    "for _ in range(NUM_BATCHES):\n",
    "        batch = sample_random_random_batch()\n",
    "        batches.append(batch)\n",
    "\n",
    "fig, ax = plt.subplots(nrows=1, ncols=1)\n",
    "i = 0\n",
    "for batch in batches:\n",
    "    x = batch[0,:]\n",
    "    y = batch[1,:]\n",
    "    ax.plot(x, y, \".\", label=f\"Batch {i}\")\n",
    "    i += 1\n",
    "ax.legend()\n",
    "ax.set_title(\"Random samples from randomized random distributions\");\n"
   ]
  },
  {
   "cell_type": "code",
   "execution_count": 30,
   "metadata": {},
   "outputs": [],
   "source": [
    "fig.savefig(\"whitening_random_random_data.pdf\")"
   ]
  },
  {
   "cell_type": "markdown",
   "metadata": {},
   "source": [
    "## Numerically comparing the different Whitening Transform implementations"
   ]
  },
  {
   "cell_type": "code",
   "execution_count": 31,
   "metadata": {},
   "outputs": [
    {
     "name": "stdout",
     "output_type": "stream",
     "text": [
      "batch 0: naive_whiten mse: 9.094948e-15\n",
      "batch 0: reg_eps_0.00 mse: 6.392043e-15\n",
      "batch 0: reg_eps_0.01 mse: 4.724399e-15\n",
      "batch 0: reg_eps_0.05 mse: 4.519762e-15\n",
      "batch 1: naive_whiten mse: 1.182343e-15\n",
      "batch 1: reg_eps_0.00 mse: 1.637090e-15\n",
      "batch 1: reg_eps_0.01 mse: 1.682565e-15\n",
      "batch 1: reg_eps_0.05 mse: 1.818989e-16\n",
      "batch 2: naive_whiten mse: 2.364686e-15\n",
      "batch 2: reg_eps_0.00 mse: 2.151523e-15\n",
      "batch 2: reg_eps_0.01 mse: 2.637535e-15\n",
      "batch 2: reg_eps_0.05 mse: 1.932676e-15\n",
      "batch 3: naive_whiten mse: 2.253842e-15\n",
      "batch 3: reg_eps_0.00 mse: 2.637535e-15\n",
      "batch 3: reg_eps_0.01 mse: 1.921307e-15\n",
      "batch 3: reg_eps_0.05 mse: 2.273737e-15\n",
      "batch 4: naive_whiten mse: 1.319447e-14\n",
      "batch 4: reg_eps_0.00 mse: 4.013146e-15\n",
      "batch 4: reg_eps_0.01 mse: 3.424816e-15\n",
      "batch 4: reg_eps_0.05 mse: 4.322942e-15\n",
      "batch 5: naive_whiten mse: 8.427036e-15\n",
      "batch 5: reg_eps_0.00 mse: 7.199219e-15\n",
      "batch 5: reg_eps_0.01 mse: 6.571099e-15\n",
      "batch 5: reg_eps_0.05 mse: 6.571099e-15\n",
      "batch 6: naive_whiten mse: 9.094947e-17\n",
      "batch 6: reg_eps_0.00 mse: 1.818989e-16\n",
      "batch 6: reg_eps_0.01 mse: 1.136868e-17\n",
      "batch 6: reg_eps_0.05 mse: 5.115907e-16\n",
      "batch 7: naive_whiten mse: 1.757172e-15\n",
      "batch 7: reg_eps_0.00 mse: 2.246026e-15\n",
      "batch 7: reg_eps_0.01 mse: 2.569323e-15\n",
      "batch 7: reg_eps_0.05 mse: 1.477929e-15\n",
      "batch 8: naive_whiten mse: 5.186962e-17\n",
      "batch 8: reg_eps_0.00 mse: 2.842171e-18\n",
      "batch 8: reg_eps_0.01 mse: 1.200817e-16\n",
      "batch 8: reg_eps_0.05 mse: 1.776357e-17\n",
      "batch 9: naive_whiten mse: 6.203038e-16\n",
      "batch 9: reg_eps_0.00 mse: 1.205791e-15\n",
      "batch 9: reg_eps_0.01 mse: 1.298872e-15\n",
      "batch 9: reg_eps_0.05 mse: 1.264766e-15\n",
      "batch 10: naive_whiten mse: 2.955858e-16\n",
      "batch 10: reg_eps_0.00 mse: 1.165290e-16\n",
      "batch 10: reg_eps_0.01 mse: 2.842171e-16\n",
      "batch 10: reg_eps_0.05 mse: 1.847411e-16\n",
      "batch 11: naive_whiten mse: 2.074785e-16\n",
      "batch 11: reg_eps_0.00 mse: 2.842171e-16\n",
      "batch 11: reg_eps_0.01 mse: 1.847411e-16\n",
      "batch 11: reg_eps_0.05 mse: 2.842171e-18\n",
      "batch 12: naive_whiten mse: 2.074785e-16\n",
      "batch 12: reg_eps_0.00 mse: 4.661160e-16\n",
      "batch 12: reg_eps_0.01 mse: 1.477929e-16\n",
      "batch 12: reg_eps_0.05 mse: 7.730705e-16\n",
      "batch 13: naive_whiten mse: 7.275957e-16\n",
      "batch 13: reg_eps_0.00 mse: 9.094947e-17\n",
      "batch 13: reg_eps_0.01 mse: 4.092726e-16\n",
      "batch 13: reg_eps_0.05 mse: 4.831690e-17\n",
      "batch 14: naive_whiten mse: 1.477929e-16\n",
      "batch 14: reg_eps_0.00 mse: 2.842171e-16\n",
      "batch 14: reg_eps_0.01 mse: 2.842171e-16\n",
      "batch 14: reg_eps_0.05 mse: 3.637979e-16\n",
      "batch 15: naive_whiten mse: 4.547473e-16\n",
      "batch 15: reg_eps_0.00 mse: 1.136868e-17\n",
      "batch 15: reg_eps_0.01 mse: 4.547473e-16\n",
      "batch 15: reg_eps_0.05 mse: 9.094947e-17\n",
      "batch 16: naive_whiten mse: 2.273737e-16\n",
      "batch 16: reg_eps_0.00 mse: 2.842171e-16\n",
      "batch 16: reg_eps_0.01 mse: 1.882938e-16\n",
      "batch 16: reg_eps_0.05 mse: 7.105428e-17\n",
      "batch 17: naive_whiten mse: 2.194156e-15\n",
      "batch 17: reg_eps_0.00 mse: 4.547473e-15\n",
      "batch 17: reg_eps_0.01 mse: 3.365131e-15\n",
      "batch 17: reg_eps_0.05 mse: 4.479261e-15\n",
      "batch 18: naive_whiten mse: 3.097967e-15\n",
      "batch 18: reg_eps_0.00 mse: 3.484501e-15\n",
      "batch 18: reg_eps_0.01 mse: 3.428369e-15\n",
      "batch 18: reg_eps_0.05 mse: 1.717382e-15\n",
      "batch 19: naive_whiten mse: 3.865353e-15\n",
      "batch 19: reg_eps_0.00 mse: 3.285550e-15\n",
      "batch 19: reg_eps_0.01 mse: 3.319656e-15\n",
      "batch 19: reg_eps_0.05 mse: 2.955858e-15\n",
      "batch 20: naive_whiten mse: 2.174616e-15\n",
      "batch 20: reg_eps_0.00 mse: 2.614131e-15\n",
      "batch 20: reg_eps_0.01 mse: 2.626521e-15\n",
      "batch 20: reg_eps_0.05 mse: 2.871481e-15\n",
      "batch 21: naive_whiten mse: 1.507949e-15\n",
      "batch 21: reg_eps_0.00 mse: 1.098899e-15\n",
      "batch 21: reg_eps_0.01 mse: 7.851497e-16\n",
      "batch 21: reg_eps_0.05 mse: 7.233326e-16\n",
      "batch 22: naive_whiten mse: 4.916955e-16\n",
      "batch 22: reg_eps_0.00 mse: 2.842171e-16\n",
      "batch 22: reg_eps_0.01 mse: 3.893774e-16\n",
      "batch 22: reg_eps_0.05 mse: 4.547473e-16\n",
      "batch 23: naive_whiten mse: 1.011813e-15\n",
      "batch 23: reg_eps_0.00 mse: 2.273737e-16\n",
      "batch 23: reg_eps_0.01 mse: 7.389645e-16\n",
      "batch 23: reg_eps_0.05 mse: 2.842171e-16\n",
      "batch 24: naive_whiten mse: 8.668621e-16\n",
      "batch 24: reg_eps_0.00 mse: 7.531753e-16\n",
      "batch 24: reg_eps_0.01 mse: 8.668621e-16\n",
      "batch 24: reg_eps_0.05 mse: 1.529088e-15\n",
      "batch 25: naive_whiten mse: 9.094947e-17\n",
      "batch 25: reg_eps_0.00 mse: 3.637979e-16\n",
      "batch 25: reg_eps_0.01 mse: 8.299139e-16\n",
      "batch 25: reg_eps_0.05 mse: 2.273737e-16\n",
      "batch 26: naive_whiten mse: 3.558398e-15\n",
      "batch 26: reg_eps_0.00 mse: 2.967227e-15\n",
      "batch 26: reg_eps_0.01 mse: 2.648903e-15\n",
      "batch 26: reg_eps_0.05 mse: 2.330580e-15\n",
      "batch 27: naive_whiten mse: 3.296919e-16\n",
      "batch 27: reg_eps_0.00 mse: 9.322321e-16\n",
      "batch 27: reg_eps_0.01 mse: 4.206413e-16\n",
      "batch 27: reg_eps_0.05 mse: 4.661160e-16\n",
      "batch 28: naive_whiten mse: 2.330580e-15\n",
      "batch 28: reg_eps_0.00 mse: 1.708145e-15\n",
      "batch 28: reg_eps_0.01 mse: 1.818989e-15\n",
      "batch 28: reg_eps_0.05 mse: 1.639933e-15\n",
      "batch 29: naive_whiten mse: 1.733724e-16\n",
      "batch 29: reg_eps_0.00 mse: 1.648459e-15\n",
      "batch 29: reg_eps_0.01 mse: 9.833912e-16\n",
      "batch 29: reg_eps_0.05 mse: 7.531753e-16\n",
      "batch 30: naive_whiten mse: 5.115907e-16\n",
      "batch 30: reg_eps_0.00 mse: 1.011813e-15\n",
      "batch 30: reg_eps_0.01 mse: 8.299139e-16\n",
      "batch 30: reg_eps_0.05 mse: 1.455191e-15\n",
      "batch 31: naive_whiten mse: 1.284661e-15\n",
      "batch 31: reg_eps_0.00 mse: 8.213874e-16\n",
      "batch 31: reg_eps_0.01 mse: 1.136868e-15\n",
      "batch 31: reg_eps_0.05 mse: 1.776357e-15\n",
      "batch 32: naive_whiten mse: 6.394885e-16\n",
      "batch 32: reg_eps_0.00 mse: 1.477929e-16\n",
      "batch 32: reg_eps_0.01 mse: 1.847411e-16\n",
      "batch 32: reg_eps_0.05 mse: 3.211653e-16\n",
      "batch 33: naive_whiten mse: 4.952483e-16\n",
      "batch 33: reg_eps_0.00 mse: 5.570655e-16\n",
      "batch 33: reg_eps_0.01 mse: 7.389645e-16\n",
      "batch 33: reg_eps_0.05 mse: 7.730705e-16\n",
      "batch 34: naive_whiten mse: 1.648459e-16\n",
      "batch 34: reg_eps_0.00 mse: 1.200817e-16\n",
      "batch 34: reg_eps_0.01 mse: 1.438849e-17\n",
      "batch 34: reg_eps_0.05 mse: 2.815525e-16\n",
      "batch 35: naive_whiten mse: 1.037392e-15\n",
      "batch 35: reg_eps_0.00 mse: 2.152234e-15\n",
      "batch 35: reg_eps_0.01 mse: 1.355716e-15\n",
      "batch 35: reg_eps_0.05 mse: 7.389644e-16\n",
      "batch 36: naive_whiten mse: 7.730705e-16\n",
      "batch 36: reg_eps_0.00 mse: 2.033929e-16\n",
      "batch 36: reg_eps_0.01 mse: 1.051603e-16\n",
      "batch 36: reg_eps_0.05 mse: 3.097967e-16\n",
      "batch 37: naive_whiten mse: 4.092726e-16\n",
      "batch 37: reg_eps_0.00 mse: 2.273737e-16\n",
      "batch 37: reg_eps_0.01 mse: 2.842171e-16\n",
      "batch 37: reg_eps_0.05 mse: 7.105428e-17\n",
      "batch 38: naive_whiten mse: 6.148326e-15\n",
      "batch 38: reg_eps_0.00 mse: 5.460521e-15\n",
      "batch 38: reg_eps_0.01 mse: 5.355361e-15\n",
      "batch 38: reg_eps_0.05 mse: 5.193356e-15\n",
      "batch 39: naive_whiten mse: 5.975664e-16\n",
      "batch 39: reg_eps_0.00 mse: 1.847411e-16\n",
      "batch 39: reg_eps_0.01 mse: 6.771473e-16\n",
      "batch 39: reg_eps_0.05 mse: 4.440892e-16\n",
      "batch 40: naive_whiten mse: 1.356284e-14\n",
      "batch 40: reg_eps_0.00 mse: 6.468781e-15\n",
      "batch 40: reg_eps_0.01 mse: 1.114131e-14\n",
      "batch 40: reg_eps_0.05 mse: 8.822098e-15\n",
      "batch 41: naive_whiten mse: 1.757172e-15\n",
      "batch 41: reg_eps_0.00 mse: 8.299139e-16\n",
      "batch 41: reg_eps_0.01 mse: 1.818989e-16\n",
      "batch 41: reg_eps_0.05 mse: 2.273737e-16\n",
      "batch 42: naive_whiten mse: 3.058176e-15\n",
      "batch 42: reg_eps_0.00 mse: 2.648903e-15\n",
      "batch 42: reg_eps_0.01 mse: 3.012701e-15\n",
      "batch 42: reg_eps_0.05 mse: 3.149125e-15\n",
      "batch 43: naive_whiten mse: 1.826095e-16\n",
      "batch 43: reg_eps_0.00 mse: 2.273737e-16\n",
      "batch 43: reg_eps_0.01 mse: 3.637979e-16\n",
      "batch 43: reg_eps_0.05 mse: 5.684341e-17\n",
      "batch 44: naive_whiten mse: 1.784883e-15\n",
      "batch 44: reg_eps_0.00 mse: 1.003286e-15\n",
      "batch 44: reg_eps_0.01 mse: 1.102762e-15\n",
      "batch 44: reg_eps_0.05 mse: 1.841727e-15\n",
      "batch 45: naive_whiten mse: 5.115907e-16\n",
      "batch 45: reg_eps_0.00 mse: 1.207923e-15\n",
      "batch 45: reg_eps_0.01 mse: 8.192558e-16\n",
      "batch 45: reg_eps_0.05 mse: 9.158895e-16\n",
      "batch 46: naive_whiten mse: 3.694822e-17\n",
      "batch 46: reg_eps_0.00 mse: 2.273737e-17\n",
      "batch 46: reg_eps_0.01 mse: 1.165290e-16\n",
      "batch 46: reg_eps_0.05 mse: 1.023182e-16\n",
      "batch 47: naive_whiten mse: 3.387868e-15\n",
      "batch 47: reg_eps_0.00 mse: 2.955858e-15\n",
      "batch 47: reg_eps_0.01 mse: 3.331024e-15\n",
      "batch 47: reg_eps_0.05 mse: 2.910383e-15\n",
      "batch 48: naive_whiten mse: 3.368417e-16\n",
      "batch 48: reg_eps_0.00 mse: 2.611689e-16\n",
      "batch 48: reg_eps_0.01 mse: 7.533529e-16\n",
      "batch 48: reg_eps_0.05 mse: 2.074785e-16\n",
      "batch 49: naive_whiten mse: 4.811796e-15\n",
      "batch 49: reg_eps_0.00 mse: 5.982770e-15\n",
      "batch 49: reg_eps_0.01 mse: 5.024958e-15\n",
      "batch 49: reg_eps_0.05 mse: 5.684342e-15\n",
      "batch 50: naive_whiten mse: 4.661160e-15\n",
      "batch 50: reg_eps_0.00 mse: 4.240519e-15\n",
      "batch 50: reg_eps_0.01 mse: 4.831691e-15\n",
      "batch 50: reg_eps_0.05 mse: 3.467448e-15\n",
      "batch 51: naive_whiten mse: 1.220002e-15\n",
      "batch 51: reg_eps_0.00 mse: 8.213874e-16\n",
      "batch 51: reg_eps_0.01 mse: 5.890399e-16\n",
      "batch 51: reg_eps_0.05 mse: 1.435296e-15\n",
      "batch 52: naive_whiten mse: 9.094947e-17\n",
      "batch 52: reg_eps_0.00 mse: 3.296919e-16\n",
      "batch 52: reg_eps_0.01 mse: 6.025402e-16\n",
      "batch 52: reg_eps_0.05 mse: 1.477929e-16\n",
      "batch 53: naive_whiten mse: 6.593837e-16\n",
      "batch 53: reg_eps_0.00 mse: 4.803269e-16\n",
      "batch 53: reg_eps_0.01 mse: 5.826450e-16\n",
      "batch 53: reg_eps_0.05 mse: 8.213874e-16\n",
      "batch 54: naive_whiten mse: 1.818989e-16\n",
      "batch 54: reg_eps_0.00 mse: 3.637979e-16\n",
      "batch 54: reg_eps_0.01 mse: 4.547473e-17\n",
      "batch 54: reg_eps_0.05 mse: 2.273737e-16\n",
      "batch 55: naive_whiten mse: 1.083436e-14\n",
      "batch 55: reg_eps_0.00 mse: 1.182343e-14\n",
      "batch 55: reg_eps_0.01 mse: 1.236913e-14\n",
      "batch 55: reg_eps_0.05 mse: 1.419949e-14\n",
      "batch 56: naive_whiten mse: 1.421086e-15\n",
      "batch 56: reg_eps_0.00 mse: 1.480771e-15\n",
      "batch 56: reg_eps_0.01 mse: 7.531753e-16\n",
      "batch 56: reg_eps_0.05 mse: 5.911716e-16\n",
      "batch 57: naive_whiten mse: 1.720224e-15\n",
      "batch 57: reg_eps_0.00 mse: 2.450662e-15\n",
      "batch 57: reg_eps_0.01 mse: 1.330136e-15\n",
      "batch 57: reg_eps_0.05 mse: 1.529799e-15\n",
      "batch 58: naive_whiten mse: 4.661160e-16\n",
      "batch 58: reg_eps_0.00 mse: 4.092726e-16\n",
      "batch 58: reg_eps_0.01 mse: 2.842171e-16\n",
      "batch 58: reg_eps_0.05 mse: 4.440892e-16\n",
      "batch 59: naive_whiten mse: 1.966782e-15\n",
      "batch 59: reg_eps_0.00 mse: 2.742695e-15\n",
      "batch 59: reg_eps_0.01 mse: 2.569323e-15\n",
      "batch 59: reg_eps_0.05 mse: 2.117417e-15\n",
      "batch 60: naive_whiten mse: 7.986500e-16\n",
      "batch 60: reg_eps_0.00 mse: 4.547473e-16\n",
      "batch 60: reg_eps_0.01 mse: 1.032419e-15\n",
      "batch 60: reg_eps_0.05 mse: 1.051603e-15\n",
      "batch 61: naive_whiten mse: 2.007283e-17\n",
      "batch 61: reg_eps_0.00 mse: 1.323386e-16\n",
      "batch 61: reg_eps_0.01 mse: 4.831690e-17\n",
      "batch 61: reg_eps_0.05 mse: 2.167155e-16\n",
      "batch 62: naive_whiten mse: 2.512479e-15\n",
      "batch 62: reg_eps_0.00 mse: 1.864464e-15\n",
      "batch 62: reg_eps_0.01 mse: 3.296918e-15\n",
      "batch 62: reg_eps_0.05 mse: 2.648903e-15\n",
      "batch 63: naive_whiten mse: 4.831690e-17\n",
      "batch 63: reg_eps_0.00 mse: 3.694822e-17\n",
      "batch 63: reg_eps_0.01 mse: 1.023182e-16\n",
      "batch 63: reg_eps_0.05 mse: 4.547473e-17\n",
      "batch 64: naive_whiten mse: 7.624123e-16\n",
      "batch 64: reg_eps_0.00 mse: 1.818989e-16\n",
      "batch 64: reg_eps_0.01 mse: 2.074785e-16\n",
      "batch 64: reg_eps_0.05 mse: 2.074785e-16\n",
      "batch 65: naive_whiten mse: 9.663382e-16\n",
      "batch 65: reg_eps_0.00 mse: 1.136868e-15\n",
      "batch 65: reg_eps_0.01 mse: 4.092726e-16\n",
      "batch 65: reg_eps_0.05 mse: 1.136868e-15\n",
      "batch 66: naive_whiten mse: 3.211653e-16\n",
      "batch 66: reg_eps_0.00 mse: 4.234835e-16\n",
      "batch 66: reg_eps_0.01 mse: 7.645440e-16\n",
      "batch 66: reg_eps_0.05 mse: 2.842171e-16\n",
      "batch 67: naive_whiten mse: 3.552714e-16\n",
      "batch 67: reg_eps_0.00 mse: 3.211653e-16\n",
      "batch 67: reg_eps_0.01 mse: 1.655565e-16\n",
      "batch 67: reg_eps_0.05 mse: 3.552714e-16\n",
      "batch 68: naive_whiten mse: 2.046363e-16\n",
      "batch 68: reg_eps_0.00 mse: 5.684341e-17\n",
      "batch 68: reg_eps_0.01 mse: 1.136868e-17\n",
      "batch 68: reg_eps_0.05 mse: 2.842171e-16\n",
      "batch 69: naive_whiten mse: 5.570655e-16\n",
      "batch 69: reg_eps_0.00 mse: 4.206413e-16\n",
      "batch 69: reg_eps_0.01 mse: 3.296919e-16\n",
      "batch 69: reg_eps_0.05 mse: 1.051603e-15\n",
      "batch 70: naive_whiten mse: 2.415845e-16\n",
      "batch 70: reg_eps_0.00 mse: 3.865353e-16\n",
      "batch 70: reg_eps_0.01 mse: 2.842171e-16\n",
      "batch 70: reg_eps_0.05 mse: 4.206413e-16\n",
      "batch 71: naive_whiten mse: 6.146195e-16\n",
      "batch 71: reg_eps_0.00 mse: 9.670487e-16\n",
      "batch 71: reg_eps_0.01 mse: 3.872458e-16\n",
      "batch 71: reg_eps_0.05 mse: 3.019807e-16\n",
      "batch 72: naive_whiten mse: 2.273737e-16\n",
      "batch 72: reg_eps_0.00 mse: 4.547473e-16\n",
      "batch 72: reg_eps_0.01 mse: 4.661160e-16\n",
      "batch 72: reg_eps_0.05 mse: 4.206413e-16\n",
      "batch 73: naive_whiten mse: 2.273737e-17\n",
      "batch 73: reg_eps_0.00 mse: 6.323830e-17\n",
      "batch 73: reg_eps_0.01 mse: 1.421085e-17\n",
      "batch 73: reg_eps_0.05 mse: 8.029133e-17\n",
      "batch 74: naive_whiten mse: 1.932676e-16\n",
      "batch 74: reg_eps_0.00 mse: 2.273737e-16\n",
      "batch 74: reg_eps_0.01 mse: 1.477929e-16\n",
      "batch 74: reg_eps_0.05 mse: 8.299139e-16\n",
      "batch 75: naive_whiten mse: 4.121148e-16\n",
      "batch 75: reg_eps_0.00 mse: 1.733724e-16\n",
      "batch 75: reg_eps_0.01 mse: 1.023182e-16\n",
      "batch 75: reg_eps_0.05 mse: 3.325340e-16\n",
      "batch 76: naive_whiten mse: 3.637979e-16\n",
      "batch 76: reg_eps_0.00 mse: 4.092726e-16\n",
      "batch 76: reg_eps_0.01 mse: 4.661160e-16\n",
      "batch 76: reg_eps_0.05 mse: 4.206413e-16\n",
      "batch 77: naive_whiten mse: 9.578116e-16\n",
      "batch 77: reg_eps_0.00 mse: 8.668621e-16\n",
      "batch 77: reg_eps_0.01 mse: 5.115907e-16\n",
      "batch 77: reg_eps_0.05 mse: 5.258016e-16\n",
      "batch 78: naive_whiten mse: 8.213874e-16\n",
      "batch 78: reg_eps_0.00 mse: 5.911716e-16\n",
      "batch 78: reg_eps_0.01 mse: 1.330136e-15\n",
      "batch 78: reg_eps_0.05 mse: 1.182343e-15\n",
      "batch 79: naive_whiten mse: 2.756906e-15\n",
      "batch 79: reg_eps_0.00 mse: 2.372680e-15\n",
      "batch 79: reg_eps_0.01 mse: 2.060574e-15\n",
      "batch 79: reg_eps_0.05 mse: 2.646772e-15\n",
      "batch 80: naive_whiten mse: 1.637268e-15\n",
      "batch 80: reg_eps_0.00 mse: 7.275957e-16\n",
      "batch 80: reg_eps_0.01 mse: 4.547473e-17\n",
      "batch 80: reg_eps_0.05 mse: 2.842171e-16\n",
      "batch 81: naive_whiten mse: 4.649792e-15\n",
      "batch 81: reg_eps_0.00 mse: 3.785772e-15\n",
      "batch 81: reg_eps_0.01 mse: 5.547918e-15\n",
      "batch 81: reg_eps_0.05 mse: 5.547918e-15\n",
      "batch 82: naive_whiten mse: 2.273737e-16\n",
      "batch 82: reg_eps_0.00 mse: 3.296919e-16\n",
      "batch 82: reg_eps_0.01 mse: 2.842171e-16\n",
      "batch 82: reg_eps_0.05 mse: 5.115907e-16\n",
      "batch 83: naive_whiten mse: 1.648459e-15\n",
      "batch 83: reg_eps_0.00 mse: 1.455191e-15\n",
      "batch 83: reg_eps_0.01 mse: 2.273737e-15\n",
      "batch 83: reg_eps_0.05 mse: 1.864464e-15\n",
      "batch 84: naive_whiten mse: 2.273737e-16\n",
      "batch 84: reg_eps_0.00 mse: 4.661160e-16\n",
      "batch 84: reg_eps_0.01 mse: 2.756906e-16\n",
      "batch 84: reg_eps_0.05 mse: 2.302159e-16\n",
      "batch 85: naive_whiten mse: 3.002043e-15\n",
      "batch 85: reg_eps_0.00 mse: 2.717826e-15\n",
      "batch 85: reg_eps_0.01 mse: 3.424816e-15\n",
      "batch 85: reg_eps_0.05 mse: 2.879119e-15\n",
      "batch 86: naive_whiten mse: 4.661160e-16\n",
      "batch 86: reg_eps_0.00 mse: 1.932676e-16\n",
      "batch 86: reg_eps_0.01 mse: 7.730705e-16\n",
      "batch 86: reg_eps_0.05 mse: 2.842171e-16\n",
      "batch 87: naive_whiten mse: 5.741185e-15\n",
      "batch 87: reg_eps_0.00 mse: 5.633893e-15\n",
      "batch 87: reg_eps_0.01 mse: 5.528022e-15\n",
      "batch 87: reg_eps_0.05 mse: 7.233324e-15\n",
      "batch 88: naive_whiten mse: 4.661160e-16\n",
      "batch 88: reg_eps_0.00 mse: 1.847411e-16\n",
      "batch 88: reg_eps_0.01 mse: 3.865353e-16\n",
      "batch 88: reg_eps_0.05 mse: 4.547473e-16\n",
      "batch 89: naive_whiten mse: 2.273737e-16\n",
      "batch 89: reg_eps_0.00 mse: 1.818989e-16\n",
      "batch 89: reg_eps_0.01 mse: 2.842171e-16\n",
      "batch 89: reg_eps_0.05 mse: 1.136868e-15\n",
      "batch 90: naive_whiten mse: 7.275957e-16\n",
      "batch 90: reg_eps_0.00 mse: 7.549516e-17\n",
      "batch 90: reg_eps_0.01 mse: 5.485390e-16\n",
      "batch 90: reg_eps_0.05 mse: 1.826095e-16\n",
      "batch 91: naive_whiten mse: 5.115907e-16\n",
      "batch 91: reg_eps_0.00 mse: 4.661160e-16\n",
      "batch 91: reg_eps_0.01 mse: 7.730705e-16\n",
      "batch 91: reg_eps_0.05 mse: 3.637979e-16\n",
      "batch 92: naive_whiten mse: 5.485390e-16\n",
      "batch 92: reg_eps_0.00 mse: 5.115907e-16\n",
      "batch 92: reg_eps_0.01 mse: 9.094946e-16\n",
      "batch 92: reg_eps_0.05 mse: 1.136868e-15\n",
      "batch 93: naive_whiten mse: 3.481659e-15\n",
      "batch 93: reg_eps_0.00 mse: 1.026024e-15\n",
      "batch 93: reg_eps_0.01 mse: 2.273737e-15\n",
      "batch 93: reg_eps_0.05 mse: 1.685407e-15\n",
      "batch 94: naive_whiten mse: 3.844036e-16\n",
      "batch 94: reg_eps_0.00 mse: 6.394885e-16\n",
      "batch 94: reg_eps_0.01 mse: 1.421085e-17\n",
      "batch 94: reg_eps_0.05 mse: 6.004086e-16\n",
      "batch 95: naive_whiten mse: 1.421086e-15\n",
      "batch 95: reg_eps_0.00 mse: 5.911716e-16\n",
      "batch 95: reg_eps_0.01 mse: 1.921307e-15\n",
      "batch 95: reg_eps_0.05 mse: 1.546141e-15\n",
      "batch 96: naive_whiten mse: 9.108136e-15\n",
      "batch 96: reg_eps_0.00 mse: 7.124079e-15\n",
      "batch 96: reg_eps_0.01 mse: 9.663381e-15\n",
      "batch 96: reg_eps_0.05 mse: 6.184564e-15\n",
      "batch 97: naive_whiten mse: 1.477929e-16\n",
      "batch 97: reg_eps_0.00 mse: 1.477929e-16\n",
      "batch 97: reg_eps_0.01 mse: 1.477929e-16\n",
      "batch 97: reg_eps_0.05 mse: 4.547473e-17\n",
      "batch 98: naive_whiten mse: 9.663382e-16\n",
      "batch 98: reg_eps_0.00 mse: 3.296919e-16\n",
      "batch 98: reg_eps_0.01 mse: 5.570655e-16\n",
      "batch 98: reg_eps_0.05 mse: 4.547473e-16\n",
      "batch 99: naive_whiten mse: 3.115730e-15\n",
      "batch 99: reg_eps_0.00 mse: 2.890488e-15\n",
      "batch 99: reg_eps_0.01 mse: 3.422684e-15\n",
      "batch 99: reg_eps_0.05 mse: 3.308997e-15\n",
      "9.094947661474322e-15 6.392042656896274e-15\n"
     ]
    }
   ],
   "source": [
    "import time\n",
    "NUM_MEASUREMENTS = 100\n",
    "\n",
    "def create_log() -> dict[str, Any]:\n",
    "    output = {\n",
    "        \"mean_mses\": [],\n",
    "        \"covar_mses\": [],\n",
    "        \"runtimes\": [],\n",
    "        \"num_failures\": 0,\n",
    "        \"num_successes\": 0\n",
    "    }\n",
    "    return output\n",
    "\n",
    "def get_whiten_fun_with_fixed_eps(reg_eps: float):\n",
    "    return lambda x : whiten(x, reg_eps)\n",
    "\n",
    "setups = {\n",
    "    \"naive_whiten\": (whiten_naive, create_log()),\n",
    "    \"reg_eps_0.00\": (get_whiten_fun_with_fixed_eps(0), create_log()),\n",
    "    \"reg_eps_0.01\": (get_whiten_fun_with_fixed_eps(0.01), create_log()),\n",
    "    \"reg_eps_0.05\": (get_whiten_fun_with_fixed_eps(0.05), create_log()),\n",
    "}\n",
    "\n",
    "for i in range(NUM_MEASUREMENTS):\n",
    "    batch = sample_random_random_batch()\n",
    "    prev_log = None\n",
    "    for (setup_name, (whiten_fun, log)) in setups.items():\n",
    "        assert not (log is prev_log)\n",
    "        prev_log = log\n",
    "        \n",
    "        try:\n",
    "            start = time.time()\n",
    "            whitened_batch = whiten_fun(batch)\n",
    "            end = time.time()\n",
    "            # runtime = timeit.timeit(\"whiten_fun(batch)\", number=1)\n",
    "        except:\n",
    "            log[\"num_failures\"] += 1\n",
    "            continue\n",
    "        mean_mse, covar_mse = compute_whiten_error(whitened_batch)\n",
    "        log[\"num_successes\"] += 1\n",
    "        log[\"mean_mses\"].append(mean_mse)\n",
    "        log[\"covar_mses\"].append(covar_mse)\n",
    "        log[\"runtimes\"].append(end-start)\n",
    "        print(f\"batch {i}: {setup_name} mse: {mean_mse:e}\")\n",
    "        \n",
    "assert(setups[\"naive_whiten\"][1][\"mean_mses\"] is not setups[\"reg_eps_0.00\"][1][\"mean_mses\"])\n",
    "print(setups[\"naive_whiten\"][1][\"mean_mses\"][0], setups[\"reg_eps_0.00\"][1][\"mean_mses\"][0])"
   ]
  },
  {
   "cell_type": "code",
   "execution_count": 32,
   "metadata": {},
   "outputs": [
    {
     "name": "stdout",
     "output_type": "stream",
     "text": [
      "naive_whiten: \tmean:1.7958e-15, \tcovar:1.8121e-01, \truntime:1.6813e-04\n",
      "reg_eps_0.00: \tmean:1.5178e-15, \tcovar:1.5194e-14, \truntime:1.9609e-04\n",
      "reg_eps_0.01: \tmean:1.6082e-15, \tcovar:4.7811e-05, \truntime:1.8138e-04\n",
      "reg_eps_0.05: \tmean:1.5568e-15, \tcovar:1.2949e-03, \truntime:1.7987e-04\n"
     ]
    },
    {
     "name": "stderr",
     "output_type": "stream",
     "text": [
      "/tmp/ipykernel_5957/1418892832.py:43: FutureWarning: In future versions `DataFrame.to_latex` is expected to utilise the base implementation of `Styler.to_latex` for formatting and rendering. The arguments signature may therefore change. It is recommended instead to use `DataFrame.style.to_latex` which also contains additional functionality.\n",
      "  df.to_latex(f, float_format=\"{:0.4e}\".format, index = False,\n"
     ]
    },
    {
     "data": {
      "image/png": "[encoded data removed]",
      "text/plain": [
       "<Figure size 640x480 with 4 Axes>"
      ]
     },
     "metadata": {},
     "output_type": "display_data"
    }
   ],
   "source": [
    "fig, axes = plt.subplots(nrows=2, ncols=2)\n",
    "row = 0\n",
    "col = 0\n",
    "\n",
    "columns = (\"Algorithm\",) + tuple(setups[\"naive_whiten\"][1].keys())\n",
    "df = pd.DataFrame(columns=columns, index = setups.keys())\n",
    "df[\"Algorithm\"] = setups.keys()\n",
    "\n",
    "for setup_name in setups.keys():\n",
    "    log = setups[setup_name][1]\n",
    "\n",
    "    ax = axes[row, col]\n",
    "    ax.set_title(setup_name + \" MSEs Covar\")\n",
    "    ax.hist(log[\"covar_mses\"], bins=50, range=[0, 0.1], density=True)\n",
    "    ax.set_ylim([0, 500])\n",
    "\n",
    "    row += 1\n",
    "    if row >= 2:\n",
    "        row = 0\n",
    "        col += 1\n",
    "\n",
    "    mean_mean_mse = np.mean(log[\"mean_mses\"])\n",
    "    mean_covar_mse = np.mean(log[\"covar_mses\"])\n",
    "    mean_runtime = np.mean(log[\"runtimes\"])\n",
    "    print(f\"{setup_name}: \\tmean:{mean_mean_mse:.4e}, \\tcovar:{mean_covar_mse:.4e}, \\truntime:{mean_runtime:.4e}\")\n",
    "\n",
    "    df.loc[setup_name, \"mean_mses\"] = np.mean(log[\"mean_mses\"])\n",
    "    df.loc[setup_name, \"covar_mses\"] = np.mean(log[\"covar_mses\"])\n",
    "    df.loc[setup_name, \"runtimes\"] = np.mean(log[\"runtimes\"])\n",
    "    df.loc[setup_name, \"num_failures\"] = log[\"num_failures\"]\n",
    "    df.loc[setup_name, \"num_successes\"] = log[\"num_successes\"]\n",
    "\n",
    "plt.tight_layout()\n",
    "\n",
    "row_names_format = {\n",
    "    \"naive_whiten\": \"Naive\",\n",
    "    \"reg_eps_0.00\": r\"$\\varepsilon=0$\",\n",
    "    \"reg_eps_0.01\": r\"$\\varepsilon=0.01$\",\n",
    "    \"reg_eps_0.05\": r\"$\\varepsilon=0.05$\"\n",
    "}\n",
    "\n",
    "with open(\"whitening_latex_table.tex\", \"w\") as f:\n",
    "    df.to_latex(f, float_format=\"{:0.4e}\".format, index = False, \n",
    "                formatters={\"Algorithm\": lambda x: row_names_format[x] },\n",
    "                escape=False,\n",
    "                columns=columns[:-2], # Don't print num_successes and num_errors\n",
    "                header=[\"Algorithm\", \"Mean MSE of Mean\",\"Mean MSE of Covariance\", \"Runtime\"])"
   ]
  },
  {
   "cell_type": "markdown",
   "metadata": {},
   "source": [
    "Outputs are typically like:\n",
    "\n",
    "```\n",
    "naive_whiten: \tmean:3.1602e-15, \tcovar:1.9646e-01, \truntime:1.4660e-04\n",
    "reg_eps_0.00: \tmean:2.9785e-15, \tcovar:1.9522e-14, \truntime:1.6805e-04\n",
    "reg_eps_0.01: \tmean:3.1532e-15, \tcovar:4.7498e-05, \truntime:1.7676e-04\n",
    "reg_eps_0.05: \tmean:3.0209e-15, \tcovar:1.2862e-03, \truntime:1.5743e-04\n",
    "```\n",
    "\n",
    "Note that the naive whitening implementation produces orders\n",
    "of magnitude larger covariance errors than the alternative implementation.\n",
    "As expected, regularization introduces some error. But still less than the naive method!\n",
    "\n",
    "Well, for robustness, we can use ~~ANOVA~~ (**it is not normally distributed!\n",
    "Looks more like exponential. Try Wilcoxon!**) to test if the mean covariance\n",
    "error between the naive and alternative(ε=0) are statistically significantly different.\n"
   ]
  },
  {
   "cell_type": "code",
   "execution_count": 33,
   "metadata": {},
   "outputs": [
    {
     "name": "stdout",
     "output_type": "stream",
     "text": [
      "Wilcoxon p-value naive covar errors significant different mean: 0.0000000000\n"
     ]
    }
   ],
   "source": [
    "naive_covar_erros = setups[\"naive_whiten\"][1][\"covar_mses\"]\n",
    "alternative_covar_erros = setups[\"reg_eps_0.00\"][1][\"covar_mses\"]\n",
    "f_val, p_val = stats.wilcoxon(naive_covar_erros, alternative_covar_erros)\n",
    "print(f\"Wilcoxon p-value naive covar errors significant different mean: {p_val:.10f}\")"
   ]
  }
 ],
 "metadata": {
  "kernelspec": {
   "display_name": "Python 3.10.6 64-bit ('rolim')",
   "language": "python",
   "name": "python3"
  },
  "language_info": {
   "codemirror_mode": {
    "name": "ipython",
    "version": 3
   },
   "file_extension": ".py",
   "mimetype": "text/x-python",
   "name": "python",
   "nbconvert_exporter": "python",
   "pygments_lexer": "ipython3",
   "version": "3.10.6"
  },
  "orig_nbformat": 4,
  "vscode": {
   "interpreter": {
    "hash": "2b1e43d871606d6392cfada235000b7723eafdefb59c66ccaa80fdf35e3b6dab"
   }
  }
 },
 "nbformat": 4,
 "nbformat_minor": 2
}
