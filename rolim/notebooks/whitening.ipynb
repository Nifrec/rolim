{
 "cells": [
  {
   "cell_type": "markdown",
   "metadata": {},
   "source": [
    "# Whitening transform\n",
    "This notebook explores the effects of the *whitening transform*\n",
    "(and its subroutine, the *Cholesky decomposition*)\n",
    "on a few isolated example inputs."
   ]
  },
  {
   "cell_type": "markdown",
   "metadata": {},
   "source": [
    "### Cholesky decomposition\n",
    "Decompose a matrix $M$ into two matrices $W$ of the same shape,\n",
    "such that\n",
    "$M = WW^{\\top}$.\n",
    "\n",
    "Note that $M$ must be\n",
    "1. Symmetric\n",
    "2. Positive definite\n",
    "(In the example below, a covariance matrix is used.\n",
    "These are always symmetric and positive definite.)\n",
    "\n",
    "It is supposedly faster than the Eigenvalue-decomposition.\n",
    "PyTorch implements both only on the CPU,\n",
    "so I doubt either is particularly fast to use in Neural Networks."
   ]
  },
  {
   "cell_type": "code",
   "execution_count": 2,
   "metadata": {},
   "outputs": [
    {
     "name": "stdout",
     "output_type": "stream",
     "text": [
      "torch.Size([3])\n",
      "tensor([[13.1000],\n",
      "        [15.9000],\n",
      "        [14.5000]])\n"
     ]
    },
    {
     "data": {
      "text/plain": [
       "tensor([[112.9889,  33.6778,  49.0556],\n",
       "        [ 33.6778,  77.2111,  54.2778],\n",
       "        [ 49.0556,  54.2778,  55.1667]])"
      ]
     },
     "execution_count": 2,
     "metadata": {},
     "output_type": "execute_result"
    }
   ],
   "source": [
    "import torch\n",
    "import random\n",
    "from rolim.tools.stats import sample_covar\n",
    "from rolim.tools.testing import assert_tensor_eq\n",
    "\n",
    "shape = (3, 10)\n",
    "elements = [x for x in range(shape[0]*shape[1])]\n",
    "random.shuffle(elements)\n",
    "sample = torch.tensor(elements, dtype=torch.float).reshape(shape)\n",
    "m = sample_covar(sample)\n",
    "m\n"
   ]
  },
  {
   "cell_type": "code",
   "execution_count": 5,
   "metadata": {},
   "outputs": [
    {
     "name": "stdout",
     "output_type": "stream",
     "text": [
      "tensor([[10.6296,  0.0000,  0.0000],\n",
      "        [ 3.1683,  8.1959,  0.0000],\n",
      "        [ 4.6150,  4.8385,  3.2338]])\n",
      "tensor([[112.9889,  33.6778,  49.0556],\n",
      "        [ 33.6778,  77.2111,  54.2778],\n",
      "        [ 49.0556,  54.2778,  55.1667]])\n"
     ]
    },
    {
     "data": {
      "text/plain": [
       "True"
      ]
     },
     "execution_count": 5,
     "metadata": {},
     "output_type": "execute_result"
    }
   ],
   "source": [
    "w = torch.linalg.cholesky(m)\n",
    "print(w)\n",
    "print(w @ w.T)\n",
    "torch.allclose(m, w@w.T)"
   ]
  },
  {
   "cell_type": "code",
   "execution_count": null,
   "metadata": {},
   "outputs": [],
   "source": []
  }
 ],
 "metadata": {
  "kernelspec": {
   "display_name": "Python 3.10.6 64-bit ('rolim')",
   "language": "python",
   "name": "python3"
  },
  "language_info": {
   "codemirror_mode": {
    "name": "ipython",
    "version": 3
   },
   "file_extension": ".py",
   "mimetype": "text/x-python",
   "name": "python",
   "nbconvert_exporter": "python",
   "pygments_lexer": "ipython3",
   "version": "3.10.6"
  },
  "orig_nbformat": 4,
  "vscode": {
   "interpreter": {
    "hash": "2b1e43d871606d6392cfada235000b7723eafdefb59c66ccaa80fdf35e3b6dab"
   }
  }
 },
 "nbformat": 4,
 "nbformat_minor": 2
}
